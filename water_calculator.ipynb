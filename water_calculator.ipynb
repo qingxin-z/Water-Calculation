{
 "cells": [
  {
   "attachments": {},
   "cell_type": "markdown",
   "metadata": {},
   "source": [
    "Import modules and cosntants"
   ]
  },
  {
   "cell_type": "code",
   "execution_count": 8,
   "metadata": {},
   "outputs": [],
   "source": [
    "import numpy as np\n",
    "from scipy import constants\n",
    "\n",
    "humidity_ratio_air =  18.01528 / 28.8160\n",
    "humidity_ratio_h2 = 18.01528 / 2.01588\n",
    "\n",
    "air_density_stp = 1.292\n",
    "water_vapour_density_stp = 0.80375 # g/L\n",
    "hydrogen_density_stp = 0.0888\n",
    "F = constants.physical_constants['Faraday constant'][0]"
   ]
  },
  {
   "attachments": {},
   "cell_type": "markdown",
   "metadata": {},
   "source": [
    "Define functions"
   ]
  },
  {
   "cell_type": "code",
   "execution_count": 6,
   "metadata": {},
   "outputs": [],
   "source": [
    "def vapour_pressure(temp):\n",
    "    \"\"\"This calculates the water vapour pressure according to Antoine Equation\"\"\"\n",
    "    # Ref: https://webbook.nist.gov/cgi/cbook.cgi?ID=C7732185&Mask=4&Type=ANTOINE&Plot=on Stull, 1947\n",
    "    A = 4.6543\n",
    "    B = 1435.264\n",
    "    C = -64.848\n",
    "    T = constants.zero_Celsius + temp\n",
    "    logP = A - (B / (T + C)) # Antoine Equation\n",
    "    Pbar = 10**logP\n",
    "    P = Pbar * 1e2\n",
    "    return P\n",
    "\n",
    "def water_to_gas_ratio_air(pressure, dewpoint_temp):\n",
    "    abs_pressure = constants.atm / 1000 + pressure\n",
    "    water_sat_p = vapour_pressure(dewpoint_temp)\n",
    "    gas_p = abs_pressure - water_sat_p\n",
    "    mass_ratio = humidity_ratio_air * water_sat_p / gas_p\n",
    "    return mass_ratio\n",
    "\n",
    "def water_to_gas_ratio_hydrogen(pressure, dewpoint_temp):\n",
    "    abs_pressure = constants.atm / 1000 + pressure\n",
    "    water_sat_p = vapour_pressure(dewpoint_temp)\n",
    "    gas_p = abs_pressure - water_sat_p\n",
    "    mass_ratio = humidity_ratio_h2 * water_sat_p / gas_p\n",
    "    return mass_ratio\n",
    "\n",
    "def mass_flow_calc(flow_rate_nlpm, density):\n",
    "    # Alicat defines NTP is 0 degC and 1 atm\n",
    "    mass_flow = flow_rate_nlpm * density\n",
    "    return mass_flow\n",
    "\n",
    "def water_generation_rate(current):\n",
    "    water_mol_min =  60 * current / (2 * F)\n",
    "    react_mass_flow = 18.01528 * water_mol_min\n",
    "    return react_mass_flow\n",
    "\n",
    "def water_drag(current, nd):\n",
    "    proton_mol_min = 60 * current / F\n",
    "    drag_mass_flow = 18.01528 * nd * proton_mol_min\n",
    "    return drag_mass_flow\n",
    "\n",
    "def water_back_diff(anode_mass_flow, cathode_mass_flow, D_w, thickness):\n",
    "    water_gradient = cathode_mass_flow - anode_mass_flow\n",
    "    diffusion_flux = -D_w * water_gradient / thickness\n",
    "    return diffusion_flux\n",
    "\n",
    "def reacted_gas_flow_rate(current, n):\n",
    "    # n = 4 for o2, 2 for h2\n",
    "    gas_mol_min = 60 * current / (n * F)\n",
    "    gas_stp = gas_mol_min * constants.R * constants.zero_Celsius / (constants.atm / 1000)\n",
    "    return gas_stp\n"
   ]
  },
  {
   "cell_type": "code",
   "execution_count": 1,
   "metadata": {},
   "outputs": [],
   "source": [
    "# Let's consider this scenario:\n",
    "h2_flow_rate = 0.5\n",
    "air_flow_rate = 2 #NLPM\n",
    "ca_dewpoint = 68 # degC\n",
    "an_dewpoint = 68\n",
    "cell_temp = 70\n",
    "inlet_bp = 100 #kPa\n",
    "outlet_bp = 60 #kPa\n",
    "op_current = 15 #A\n",
    "nd = 1"
   ]
  },
  {
   "attachments": {},
   "cell_type": "markdown",
   "metadata": {},
   "source": [
    "Calcuate"
   ]
  },
  {
   "cell_type": "code",
   "execution_count": 9,
   "metadata": {},
   "outputs": [
    {
     "name": "stdout",
     "output_type": "stream",
     "text": [
      "0.06630088475419844 0.07587900883456065\n",
      "0.3803867671708381\n",
      "0.3539572495733509\n"
     ]
    }
   ],
   "source": [
    "\n",
    "\n",
    "\n",
    "inlet_water_mass_flow_ca = water_to_gas_ratio_air(inlet_bp, ca_dewpoint) * mass_flow_calc(air_flow_rate, air_density_stp) #g/min\n",
    "water_generated = water_generation_rate(op_current)\n",
    "drag_flow = water_drag(op_current, nd)\n",
    "back_diff_flux = 8e-6 * 18.01528 * 60 * 50# g/min\n",
    "\n",
    "inlet_water_mass_flow_an = water_to_gas_ratio_hydrogen(inlet_bp, an_dewpoint) * mass_flow_calc(h2_flow_rate, hydrogen_density_stp)\n",
    "\n",
    "outlet_air_flow_rate = air_flow_rate - reacted_gas_flow_rate(op_current, 4)\n",
    "outlet_h2_flow_rate = h2_flow_rate - reacted_gas_flow_rate(op_current, 2) \n",
    "\n",
    "outlet_water_vapour_flow_allowed_an = water_to_gas_ratio_hydrogen(outlet_bp, cell_temp) * mass_flow_calc(outlet_h2_flow_rate, hydrogen_density_stp)\n",
    "\n",
    "outlet_water_vapour_flow_allowed_ca = water_to_gas_ratio_air(outlet_bp, cell_temp) * mass_flow_calc(outlet_air_flow_rate, air_density_stp) #assuming air concentration not changed\n",
    "\n",
    "outlet_water_mass_flow = inlet_water_mass_flow_ca + water_generated# + drag_flow - back_diff_flux\n",
    "\n",
    "total_water_in = inlet_water_mass_flow_an + inlet_water_mass_flow_ca\n",
    "total_water_out = total_water_in + water_generated\n",
    "total_water_vapour_out_allowed = outlet_water_vapour_flow_allowed_an + outlet_water_vapour_flow_allowed_ca\n",
    "\n",
    "print(inlet_water_mass_flow_an, outlet_water_vapour_flow_allowed_an)\n",
    "print(outlet_water_vapour_flow_allowed_ca)\n",
    "\n",
    "print(outlet_water_mass_flow)"
   ]
  },
  {
   "cell_type": "code",
   "execution_count": 10,
   "metadata": {},
   "outputs": [
    {
     "name": "stdout",
     "output_type": "stream",
     "text": [
      "0.3362362853907868\n"
     ]
    }
   ],
   "source": [
    "print(total_water_in)"
   ]
  },
  {
   "cell_type": "code",
   "execution_count": 11,
   "metadata": {},
   "outputs": [
    {
     "name": "stdout",
     "output_type": "stream",
     "text": [
      "1.947731504502021\n"
     ]
    }
   ],
   "source": [
    "print(outlet_air_flow_rate)"
   ]
  }
 ],
 "metadata": {
  "kernelspec": {
   "display_name": "Python 3",
   "language": "python",
   "name": "python3"
  },
  "language_info": {
   "codemirror_mode": {
    "name": "ipython",
    "version": 3
   },
   "file_extension": ".py",
   "mimetype": "text/x-python",
   "name": "python",
   "nbconvert_exporter": "python",
   "pygments_lexer": "ipython3",
   "version": "3.11.7"
  },
  "orig_nbformat": 4
 },
 "nbformat": 4,
 "nbformat_minor": 2
}
